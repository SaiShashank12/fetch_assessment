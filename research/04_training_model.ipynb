{
 "cells": [
  {
   "cell_type": "code",
   "execution_count": 1,
   "metadata": {},
   "outputs": [],
   "source": [
    "import os"
   ]
  },
  {
   "cell_type": "code",
   "execution_count": 2,
   "metadata": {},
   "outputs": [
    {
     "data": {
      "text/plain": [
       "'c:\\\\Users\\\\shash\\\\fetch_assessment\\\\research'"
      ]
     },
     "execution_count": 2,
     "metadata": {},
     "output_type": "execute_result"
    }
   ],
   "source": [
    "%pwd"
   ]
  },
  {
   "cell_type": "code",
   "execution_count": 3,
   "metadata": {},
   "outputs": [],
   "source": [
    "os.chdir(\"../\")"
   ]
  },
  {
   "cell_type": "code",
   "execution_count": 4,
   "metadata": {},
   "outputs": [
    {
     "data": {
      "text/plain": [
       "'c:\\\\Users\\\\shash\\\\fetch_assessment'"
      ]
     },
     "execution_count": 4,
     "metadata": {},
     "output_type": "execute_result"
    }
   ],
   "source": [
    "%pwd"
   ]
  },
  {
   "cell_type": "code",
   "execution_count": 25,
   "metadata": {},
   "outputs": [],
   "source": [
    "from dataclasses import dataclass\n",
    "from pathlib import Path\n",
    "\n",
    "@dataclass(frozen=True)\n",
    "class TrainingModelConfig:\n",
    "    root_dir: Path\n",
    "    data_path: Path\n",
    "    model_path: Path\n",
    "    epoch: int\n",
    "    batch_size: int\n",
    "    look_back: int"
   ]
  },
  {
   "cell_type": "code",
   "execution_count": 26,
   "metadata": {},
   "outputs": [],
   "source": [
    "from fetch_assessment.constants import *\n",
    "from fetch_assessment.utils.common import read_yaml, create_directories"
   ]
  },
  {
   "cell_type": "code",
   "execution_count": 27,
   "metadata": {},
   "outputs": [],
   "source": [
    "class ConfigurationManager:\n",
    "    def __init__(\n",
    "        self,\n",
    "        config_filepath = CONFIG_FILE_PATH,\n",
    "        params_filepath = PARAMS_FILE_PATH):\n",
    "\n",
    "        self.config = read_yaml(config_filepath)\n",
    "        self.params = read_yaml(params_filepath)\n",
    "\n",
    "        create_directories([self.config.artifacts_root])\n",
    "        \n",
    "\n",
    "    \n",
    "\n",
    "    def get_training_model_config(self) -> TrainingModelConfig:\n",
    "        config = self.config.model_training\n",
    "        params=self.params.TrainingArguments\n",
    "        create_directories([config.root_dir])\n",
    "\n",
    "        traing_model_config = TrainingModelConfig(\n",
    "            root_dir=config.root_dir,\n",
    "            data_path=config.data_path,\n",
    "            model_path=config.model_path,\n",
    "            epoch=params.epoch,\n",
    "            batch_size=params.batch_size,\n",
    "            look_back=params.look_back            \n",
    "                    )\n",
    "\n",
    "        return traing_model_config"
   ]
  },
  {
   "cell_type": "code",
   "execution_count": 88,
   "metadata": {},
   "outputs": [],
   "source": [
    "import tensorflow as tf\n",
    "from tensorflow.keras.models import Sequential\n",
    "from tensorflow.keras.layers import LSTM,GRU, Dense,Dropout,Bidirectional,Conv1D,Reshape,MaxPooling1D,Flatten,SimpleRNN\n",
    "from tensorflow.keras.callbacks import EarlyStopping\n",
    "from sklearn.preprocessing import MinMaxScaler\n",
    "from sklearn.metrics import mean_squared_error\n",
    "import numpy as np\n",
    "import joblib"
   ]
  },
  {
   "cell_type": "code",
   "execution_count": 93,
   "metadata": {},
   "outputs": [],
   "source": [
    "class ModelTrainer:\n",
    "    def __init__(self, config: TrainingModelConfig):\n",
    "        self.config = config\n",
    "\n",
    "    \n",
    "    def rmse_funct(self,y_true, y_pred):\n",
    "        return tf.sqrt(tf.reduce_mean(tf.square(y_true - y_pred)))\n",
    "\n",
    "    \n",
    "    def training(self):\n",
    "        import numpy as np\n",
    "\n",
    "        # Load the data\n",
    "        X_train = np.load(os.path.join(self.config.data_path,\"X_train.npy\"))\n",
    "        y_train = np.load(os.path.join(self.config.data_path,\"y_train.npy\"))\n",
    "        X_test = np.load(os.path.join(self.config.data_path,\"X_test.npy\"))\n",
    "        y_test = np.load(os.path.join(self.config.data_path,\"y_test.npy\"))\n",
    "        scaled_data = np.load(os.path.join(self.config.data_path,\"scaled_data.npy\"))\n",
    "        scaler = joblib.load(os.path.join(self.config.data_path,\"scaler.gz\"))\n",
    "        \n",
    "        # X_loaded and Y_loaded are now numpy arrays with the same content and shape as the original X and Y\n",
    "        early_stopping = EarlyStopping(monitor='val_loss', min_delta=0.001, patience=10, restore_best_weights=True)\n",
    "\n",
    "        model = Sequential()\n",
    "        # CNN Layer\n",
    "        model.add(Conv1D(filters=64, kernel_size=2, activation='relu', input_shape=(self.config.look_back, X_train.shape[2])))\n",
    "        # Removing MaxPooling1D layer to maintain the sequence length\n",
    "        # LSTM Layer\n",
    "        model.add(LSTM(50, activation='relu', return_sequences=True))\n",
    "        model.add(Dropout(0.2))\n",
    "        model.add(LSTM(50, activation='relu'))\n",
    "        model.add(Dropout(0.2))\n",
    "        # Output Layer\n",
    "        model.add(Dense(1))\n",
    "\n",
    "        # Compile the model\n",
    "        model.compile(optimizer='adam', loss='mean_squared_error')\n",
    "\n",
    "        # Early stopping callback\n",
    "        early_stopping = EarlyStopping(monitor='val_loss', min_delta=0.001, patience=10, restore_best_weights=True)\n",
    "\n",
    "        # Train the model\n",
    "        history = model.fit(X_train, y_train, epochs=100, batch_size=32, validation_split=0.2, callbacks=[early_stopping])\n",
    "        model.save(self.config.model_path)\n",
    "        # # Predicting on the test set\n",
    "        # y_pred = model.predict(X_test)\n",
    "        # print(y_pred.shape,y_test.shape)\n",
    "        # # Calculating RMSE\n",
    "        # rmse = np.sqrt(mean_squared_error(y_test, y_pred))\n",
    "        # print(\"Test RMSE:\", rmse)\n",
    "        # # Reshape y_pred_scaled for inverse transformation\n",
    "        # temp_shape = np.zeros((len(y_pred), scaled_data.shape[1]))\n",
    "        # temp_shape[:, 0] = y_pred[:, 0]\n",
    "        # y_pred = scaler.inverse_transform(temp_shape)[:, 0]\n",
    "\n",
    "        # # Reshape y_test for inverse transformation\n",
    "        # y_test_temp_shape = np.zeros((len(y_test), scaled_data.shape[1]))\n",
    "        # y_test_temp_shape[:, 0] = y_test\n",
    "        # y_test_rescaled = scaler.inverse_transform(y_test_temp_shape)[:, 0]\n",
    "\n",
    "        # # Calculating RMSE on the rescaled data\n",
    "        # rmse = np.sqrt(mean_squared_error(y_test_rescaled, y_pred))\n",
    "        # print(\"Test RMSE on original scale:\", rmse)\n"
   ]
  },
  {
   "cell_type": "code",
   "execution_count": 94,
   "metadata": {},
   "outputs": [
    {
     "name": "stdout",
     "output_type": "stream",
     "text": [
      "[2023-11-13 14:39:49,072: INFO: common: yaml file: config\\config.yaml loaded successfully]\n",
      "[2023-11-13 14:39:49,072: INFO: common: yaml file: params.yaml loaded successfully]\n",
      "[2023-11-13 14:39:49,076: INFO: common: created directory at: artifacts]\n",
      "[2023-11-13 14:39:49,076: INFO: common: created directory at: artifacts/model_training]\n"
     ]
    },
    {
     "name": "stdout",
     "output_type": "stream",
     "text": [
      "Epoch 1/100\n",
      "8/8 [==============================] - 3s 49ms/step - loss: 0.2429 - val_loss: 0.1498\n",
      "Epoch 2/100\n",
      "8/8 [==============================] - 0s 12ms/step - loss: 0.0852 - val_loss: 0.0072\n",
      "Epoch 3/100\n",
      "8/8 [==============================] - 0s 12ms/step - loss: 0.0260 - val_loss: 0.0072\n",
      "Epoch 4/100\n",
      "8/8 [==============================] - 0s 14ms/step - loss: 0.0169 - val_loss: 0.0142\n",
      "Epoch 5/100\n",
      "8/8 [==============================] - 0s 14ms/step - loss: 0.0192 - val_loss: 0.0066\n",
      "Epoch 6/100\n",
      "8/8 [==============================] - 0s 13ms/step - loss: 0.0148 - val_loss: 0.0059\n",
      "Epoch 7/100\n",
      "8/8 [==============================] - 0s 15ms/step - loss: 0.0130 - val_loss: 0.0086\n",
      "Epoch 8/100\n",
      "8/8 [==============================] - 0s 13ms/step - loss: 0.0135 - val_loss: 0.0044\n",
      "Epoch 9/100\n",
      "8/8 [==============================] - 0s 13ms/step - loss: 0.0121 - val_loss: 0.0038\n",
      "Epoch 10/100\n",
      "8/8 [==============================] - 0s 13ms/step - loss: 0.0108 - val_loss: 0.0034\n",
      "Epoch 11/100\n",
      "8/8 [==============================] - 0s 12ms/step - loss: 0.0090 - val_loss: 0.0058\n",
      "Epoch 12/100\n",
      "8/8 [==============================] - 0s 13ms/step - loss: 0.0110 - val_loss: 0.0036\n",
      "Epoch 13/100\n",
      "8/8 [==============================] - 0s 13ms/step - loss: 0.0118 - val_loss: 0.0058\n",
      "Epoch 14/100\n",
      "8/8 [==============================] - 0s 12ms/step - loss: 0.0121 - val_loss: 0.0039\n",
      "Epoch 15/100\n",
      "8/8 [==============================] - 0s 13ms/step - loss: 0.0108 - val_loss: 0.0037\n",
      "Epoch 16/100\n",
      "8/8 [==============================] - 0s 13ms/step - loss: 0.0102 - val_loss: 0.0038\n",
      "Epoch 17/100\n",
      "8/8 [==============================] - 0s 12ms/step - loss: 0.0106 - val_loss: 0.0034\n",
      "Epoch 18/100\n",
      "8/8 [==============================] - 0s 12ms/step - loss: 0.0127 - val_loss: 0.0042\n",
      "Epoch 19/100\n",
      "8/8 [==============================] - 0s 11ms/step - loss: 0.0111 - val_loss: 0.0046\n",
      "Epoch 20/100\n",
      "8/8 [==============================] - 0s 11ms/step - loss: 0.0089 - val_loss: 0.0041\n",
      "[2023-11-13 14:39:56,030: INFO: builder_impl: Assets written to: artifacts/model_training/model\\assets]\n"
     ]
    }
   ],
   "source": [
    "config = ConfigurationManager()\n",
    "model_trainer_config = config.get_training_model_config()\n",
    "model_trainer_config = ModelTrainer(config=model_trainer_config)\n",
    "model_trainer_config.training()"
   ]
  },
  {
   "cell_type": "code",
   "execution_count": null,
   "metadata": {},
   "outputs": [],
   "source": []
  }
 ],
 "metadata": {
  "kernelspec": {
   "display_name": "fetch_assessment",
   "language": "python",
   "name": "python3"
  },
  "language_info": {
   "codemirror_mode": {
    "name": "ipython",
    "version": 3
   },
   "file_extension": ".py",
   "mimetype": "text/x-python",
   "name": "python",
   "nbconvert_exporter": "python",
   "pygments_lexer": "ipython3",
   "version": "3.8.18"
  }
 },
 "nbformat": 4,
 "nbformat_minor": 2
}
