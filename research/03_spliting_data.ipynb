{
 "cells": [
  {
   "cell_type": "code",
   "execution_count": 1,
   "metadata": {},
   "outputs": [],
   "source": [
    "import os"
   ]
  },
  {
   "cell_type": "code",
   "execution_count": 2,
   "metadata": {},
   "outputs": [
    {
     "data": {
      "text/plain": [
       "'c:\\\\Users\\\\shash\\\\fetch_assessment\\\\research'"
      ]
     },
     "execution_count": 2,
     "metadata": {},
     "output_type": "execute_result"
    }
   ],
   "source": [
    "%pwd"
   ]
  },
  {
   "cell_type": "code",
   "execution_count": 3,
   "metadata": {},
   "outputs": [],
   "source": [
    "os.chdir(\"../\")"
   ]
  },
  {
   "cell_type": "code",
   "execution_count": 4,
   "metadata": {},
   "outputs": [
    {
     "data": {
      "text/plain": [
       "'c:\\\\Users\\\\shash\\\\fetch_assessment'"
      ]
     },
     "execution_count": 4,
     "metadata": {},
     "output_type": "execute_result"
    }
   ],
   "source": [
    "%pwd"
   ]
  },
  {
   "cell_type": "code",
   "execution_count": 5,
   "metadata": {},
   "outputs": [],
   "source": [
    "from dataclasses import dataclass\n",
    "from pathlib import Path\n",
    "\n",
    "\n",
    "@dataclass(frozen=True)\n",
    "class SplitingDataConfig:\n",
    "    root_dir: Path\n",
    "    data_path: Path\n",
    "    look_back: int\n",
    "    split:float"
   ]
  },
  {
   "cell_type": "code",
   "execution_count": 6,
   "metadata": {},
   "outputs": [
    {
     "name": "stdout",
     "output_type": "stream",
     "text": [
      "Importing constants\n",
      "Config path: config\\config.yaml\n",
      "Params path: params.yaml\n"
     ]
    }
   ],
   "source": [
    "from fetch_assessment.constants import *\n",
    "from fetch_assessment.utils.common import read_yaml, create_directories"
   ]
  },
  {
   "cell_type": "code",
   "execution_count": 15,
   "metadata": {},
   "outputs": [],
   "source": [
    "class ConfigurationManager:\n",
    "    def __init__(\n",
    "        self,\n",
    "        config_filepath = CONFIG_FILE_PATH,\n",
    "        params_filepath = PARAMS_FILE_PATH):\n",
    "\n",
    "        self.config = read_yaml(config_filepath)\n",
    "        self.params = read_yaml(params_filepath)\n",
    "\n",
    "        create_directories([self.config.artifacts_root])\n",
    "\n",
    "\n",
    "    \n",
    "    def get_Spliting_Data_config(self) -> SplitingDataConfig:\n",
    "        config = self.config.spliting_data\n",
    "        params = self.params.splitingparameters\n",
    "        create_directories([config.root_dir])\n",
    "\n",
    "        spliting_data_config = SplitingDataConfig(\n",
    "            root_dir=config.root_dir,\n",
    "            data_path=config.data_path,\n",
    "            look_back=params.look_back,\n",
    "            split=params.split\n",
    "        )\n",
    "\n",
    "        return spliting_data_config"
   ]
  },
  {
   "cell_type": "code",
   "execution_count": 23,
   "metadata": {},
   "outputs": [],
   "source": [
    "import os\n",
    "import numpy as np\n",
    "import pandas as pd\n",
    "from fetch_assessment.logging import logger\n",
    "from sklearn.model_selection import train_test_split\n",
    "from sklearn.preprocessing import MinMaxScaler"
   ]
  },
  {
   "cell_type": "code",
   "execution_count": 38,
   "metadata": {},
   "outputs": [],
   "source": [
    "class Spliting_Data:\n",
    "    def __init__(self,config:SplitingDataConfig):\n",
    "        self.config = config\n",
    "\n",
    "    \n",
    "    def create_dataset(self,data,look_back):\n",
    "        X, Y = [], []\n",
    "        for i in range(len(data) - look_back):\n",
    "            X.append(data[i:(i + look_back)])\n",
    "            Y.append(data[i + look_back])\n",
    "        return np.array(X), np.array(Y)\n",
    "\n",
    "    def spliting_data(self,X,y):\n",
    "        X_train, X_test, y_train, y_test = train_test_split(X, y, test_size=0.2, random_state=42)\n",
    "        return X_train, X_test, y_train, y_test\n",
    "\n",
    "    def saving_data(self):\n",
    "        scaler = MinMaxScaler(feature_range=(0, 1))\n",
    "        scaled_data = scaler.fit_transform(pd.read_csv(self.config.data_path).drop(\"# Date\",axis=1))\n",
    "        X,y=self.create_dataset(scaled_data,self.config.look_back)\n",
    "        X_train, X_test, y_train, y_test=self.spliting_data(X,y) \n",
    "        np.save(os.path.join(self.config.root_dir,\"X_train\"),X_train)\n",
    "        np.save(os.path.join(self.config.root_dir,\"X_test\"),X_test)\n",
    "        np.save(os.path.join(self.config.root_dir,\"y_train\"),y_train)\n",
    "        np.save(os.path.join(self.config.root_dir,\"y_test\"),y_test)"
   ]
  },
  {
   "cell_type": "code",
   "execution_count": 39,
   "metadata": {},
   "outputs": [
    {
     "name": "stdout",
     "output_type": "stream",
     "text": [
      "[2023-11-13 11:27:11,938: INFO: common: yaml file: config\\config.yaml loaded successfully]\n",
      "[2023-11-13 11:27:11,946: INFO: common: yaml file: params.yaml loaded successfully]\n",
      "[2023-11-13 11:27:11,946: INFO: common: created directory at: artifacts]\n",
      "[2023-11-13 11:27:11,950: INFO: common: created directory at: artifacts/data_spliting_data]\n"
     ]
    }
   ],
   "source": [
    "try:\n",
    "    config = ConfigurationManager()\n",
    "    Split_Data_config = config.get_Spliting_Data_config()\n",
    "    Split_Data = Spliting_Data(config=Split_Data_config)\n",
    "    Split_Data.saving_data()\n",
    "except Exception as e:\n",
    "    raise e"
   ]
  },
  {
   "cell_type": "code",
   "execution_count": null,
   "metadata": {},
   "outputs": [],
   "source": []
  }
 ],
 "metadata": {
  "kernelspec": {
   "display_name": "fetch_assessment",
   "language": "python",
   "name": "python3"
  },
  "language_info": {
   "codemirror_mode": {
    "name": "ipython",
    "version": 3
   },
   "file_extension": ".py",
   "mimetype": "text/x-python",
   "name": "python",
   "nbconvert_exporter": "python",
   "pygments_lexer": "ipython3",
   "version": "3.8.18"
  }
 },
 "nbformat": 4,
 "nbformat_minor": 2
}
