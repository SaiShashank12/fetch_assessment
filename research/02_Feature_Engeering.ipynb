{
 "cells": [
  {
   "cell_type": "code",
   "execution_count": 2,
   "metadata": {},
   "outputs": [],
   "source": [
    "import os"
   ]
  },
  {
   "cell_type": "code",
   "execution_count": 3,
   "metadata": {},
   "outputs": [
    {
     "data": {
      "text/plain": [
       "'c:\\\\Users\\\\shash\\\\fetch_assessment\\\\research'"
      ]
     },
     "execution_count": 3,
     "metadata": {},
     "output_type": "execute_result"
    }
   ],
   "source": [
    "%pwd"
   ]
  },
  {
   "cell_type": "code",
   "execution_count": 4,
   "metadata": {},
   "outputs": [],
   "source": [
    "os.chdir(\"../\")"
   ]
  },
  {
   "cell_type": "code",
   "execution_count": 5,
   "metadata": {},
   "outputs": [
    {
     "data": {
      "text/plain": [
       "'c:\\\\Users\\\\shash\\\\fetch_assessment'"
      ]
     },
     "execution_count": 5,
     "metadata": {},
     "output_type": "execute_result"
    }
   ],
   "source": [
    "%pwd"
   ]
  },
  {
   "cell_type": "code",
   "execution_count": 24,
   "metadata": {},
   "outputs": [],
   "source": [
    "from dataclasses import dataclass\n",
    "from pathlib import Path\n",
    "\n",
    "\n",
    "@dataclass(frozen=True)\n",
    "class FeatureengineeringConfig:\n",
    "    root_dir: Path\n",
    "    data_path: Path\n"
   ]
  },
  {
   "cell_type": "code",
   "execution_count": 25,
   "metadata": {},
   "outputs": [],
   "source": [
    "from fetch_assessment.constants import *\n",
    "from fetch_assessment.utils.common import read_yaml, create_directories"
   ]
  },
  {
   "cell_type": "code",
   "execution_count": 26,
   "metadata": {},
   "outputs": [],
   "source": [
    "class ConfigurationManager:\n",
    "    def __init__(\n",
    "        self,\n",
    "        config_filepath = CONFIG_FILE_PATH,\n",
    "        params_filepath = PARAMS_FILE_PATH):\n",
    "\n",
    "        self.config = read_yaml(config_filepath)\n",
    "        self.params = read_yaml(params_filepath)\n",
    "\n",
    "        create_directories([self.config.artifacts_root])\n",
    "\n",
    "\n",
    "    \n",
    "    def get_data_transformation_config(self) -> FeatureengineeringConfig:\n",
    "        config = self.config.feature_engineering\n",
    "\n",
    "        create_directories([config.root_dir])\n",
    "\n",
    "        feature_eng_config = FeatureengineeringConfig(\n",
    "            root_dir=config.root_dir,\n",
    "            data_path=config.data_path,\n",
    "            #tokenizer_name = config.tokenizer_name\n",
    "        )\n",
    "\n",
    "        return feature_eng_config"
   ]
  },
  {
   "cell_type": "code",
   "execution_count": 27,
   "metadata": {},
   "outputs": [],
   "source": [
    "import pandas as pd"
   ]
  },
  {
   "cell_type": "code",
   "execution_count": 30,
   "metadata": {},
   "outputs": [],
   "source": [
    "class Feature_engineering:\n",
    "    def __init__(self,config:FeatureengineeringConfig):\n",
    "        self.config = config\n",
    "    \n",
    "    def add_feature(self,data):\n",
    "        # Feature Engineering\n",
    "        data['# Date'] = pd.to_datetime(data['# Date'])\n",
    "        data['Day_of_Week'] = data['# Date'].dt.dayofweek  # Monday=0, Sunday=6\n",
    "        data['Month'] = data['# Date'].dt.month\n",
    "        data['Day'] = data['# Date'].dt.day\n",
    "        data['Year'] = data['# Date'].dt.year\n",
    "\n",
    "        # For simplicity, we'll create lagged features for the previous 1, 2, and 3 days.\n",
    "        # These are basic lag features; more sophisticated approaches can be used for time series forecasting.\n",
    "        data['Lag_1'] = data['Receipt_Count'].shift(1)\n",
    "        data['Lag_2'] = data['Receipt_Count'].shift(2)\n",
    "        data['Lag_3'] = data['Receipt_Count'].shift(3)\n",
    "        data.dropna(inplace=True)\n",
    "        \n",
    "        return data \n",
    "\n",
    "    def features(self):\n",
    "        data=pd.read_csv(self.config.data_path)\n",
    "        data_transformed=self.add_feature(data)\n",
    "        data_transformed.to_csv(os.path.join(self.config.root_dir,\"data.csv\"))       \n"
   ]
  },
  {
   "cell_type": "code",
   "execution_count": 31,
   "metadata": {},
   "outputs": [
    {
     "name": "stdout",
     "output_type": "stream",
     "text": [
      "[2023-11-12 20:39:30,239: INFO: common: yaml file: config\\config.yaml loaded successfully]\n",
      "[2023-11-12 20:39:30,241: INFO: common: yaml file: params.yaml loaded successfully]\n",
      "[2023-11-12 20:39:30,243: INFO: common: created directory at: artifacts]\n",
      "[2023-11-12 20:39:30,244: INFO: common: created directory at: artifacts/data_transformation]\n"
     ]
    }
   ],
   "source": [
    "try:\n",
    "    config = ConfigurationManager()\n",
    "    Feature_engineering_config = config.get_data_transformation_config()\n",
    "    data_transformation = Feature_engineering(config=Feature_engineering_config)\n",
    "    data_transformation.features()\n",
    "except Exception as e:\n",
    "    raise e"
   ]
  },
  {
   "cell_type": "code",
   "execution_count": null,
   "metadata": {},
   "outputs": [],
   "source": []
  }
 ],
 "metadata": {
  "kernelspec": {
   "display_name": "fetch_assessment",
   "language": "python",
   "name": "python3"
  },
  "language_info": {
   "codemirror_mode": {
    "name": "ipython",
    "version": 3
   },
   "file_extension": ".py",
   "mimetype": "text/x-python",
   "name": "python",
   "nbconvert_exporter": "python",
   "pygments_lexer": "ipython3",
   "version": "3.8.18"
  }
 },
 "nbformat": 4,
 "nbformat_minor": 2
}
